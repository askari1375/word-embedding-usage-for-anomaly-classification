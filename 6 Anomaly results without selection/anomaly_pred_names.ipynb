{
  "nbformat": 4,
  "nbformat_minor": 0,
  "metadata": {
    "colab": {
      "provenance": []
    },
    "kernelspec": {
      "name": "python3",
      "display_name": "Python 3"
    },
    "language_info": {
      "name": "python"
    }
  },
  "cells": [
    {
      "cell_type": "markdown",
      "source": [
        "# Global Configurations"
      ],
      "metadata": {
        "id": "tvgvO2xbE27p"
      }
    },
    {
      "cell_type": "code",
      "execution_count": 1,
      "metadata": {
        "colab": {
          "base_uri": "https://localhost:8080/"
        },
        "id": "amsJ0xD4EbAh",
        "outputId": "81687502-d2ae-4f40-ed81-f61a40334aed"
      },
      "outputs": [
        {
          "output_type": "stream",
          "name": "stdout",
          "text": [
            "Mounted at /content/drive/\n"
          ]
        }
      ],
      "source": [
        "from google.colab import drive\n",
        "drive.mount('/content/drive/')"
      ]
    },
    {
      "cell_type": "code",
      "source": [
        "cd drive/My Drive/Research/Word embedding usage for anomaly classification/anomaly predictions"
      ],
      "metadata": {
        "colab": {
          "base_uri": "https://localhost:8080/"
        },
        "id": "KOOr-pD7E7IO",
        "outputId": "3607d0ab-e972-42bb-f3b4-af95ac147b95"
      },
      "execution_count": 2,
      "outputs": [
        {
          "output_type": "stream",
          "name": "stdout",
          "text": [
            "/content/drive/My Drive/Research/Word embedding usage for anomaly classification/anomaly predictions\n"
          ]
        }
      ]
    },
    {
      "cell_type": "code",
      "source": [
        "!ls"
      ],
      "metadata": {
        "colab": {
          "base_uri": "https://localhost:8080/"
        },
        "id": "yBoz3VnpE8an",
        "outputId": "0a289325-2127-45f6-eb7a-5751002951fe"
      },
      "execution_count": 3,
      "outputs": [
        {
          "output_type": "stream",
          "name": "stdout",
          "text": [
            "'anomaly predictions.npy'  'anomaly true values.npy'\n",
            " anomaly-pred-names.ipynb   names.txt\n"
          ]
        }
      ]
    },
    {
      "cell_type": "markdown",
      "source": [
        "# Glove Configurations"
      ],
      "metadata": {
        "id": "mYRw_xFEE-lG"
      }
    },
    {
      "cell_type": "code",
      "source": [
        "!pip install annoy"
      ],
      "metadata": {
        "colab": {
          "base_uri": "https://localhost:8080/"
        },
        "id": "FWmGR4LyRt_x",
        "outputId": "1204fdaf-7161-4f18-a0c5-c31766c3d35a"
      },
      "execution_count": 22,
      "outputs": [
        {
          "output_type": "stream",
          "name": "stdout",
          "text": [
            "Looking in indexes: https://pypi.org/simple, https://us-python.pkg.dev/colab-wheels/public/simple/\n",
            "Collecting annoy\n",
            "  Downloading annoy-1.17.1.tar.gz (647 kB)\n",
            "\u001b[K     |████████████████████████████████| 647 kB 7.3 MB/s \n",
            "\u001b[?25hBuilding wheels for collected packages: annoy\n",
            "  Building wheel for annoy (setup.py) ... \u001b[?25l\u001b[?25hdone\n",
            "  Created wheel for annoy: filename=annoy-1.17.1-cp38-cp38-linux_x86_64.whl size=394066 sha256=70828de139828578178c8c722d9f992503922ea11b4c1a0afdda80ebbbff9ffd\n",
            "  Stored in directory: /root/.cache/pip/wheels/f9/93/19/30511c4a9ae6b4937455a134c34a39e13943e2c6f46fcd2ed2\n",
            "Successfully built annoy\n",
            "Installing collected packages: annoy\n",
            "Successfully installed annoy-1.17.1\n"
          ]
        }
      ]
    },
    {
      "cell_type": "code",
      "source": [
        "from torchtext.vocab import GloVe\n",
        "\n",
        "glove_embedding = GloVe(name='6B', dim=300)"
      ],
      "metadata": {
        "colab": {
          "base_uri": "https://localhost:8080/"
        },
        "id": "575dYnlkFTbu",
        "outputId": "3349b99b-4782-4fb1-a92e-969723fa4743"
      },
      "execution_count": 4,
      "outputs": [
        {
          "output_type": "stream",
          "name": "stderr",
          "text": [
            ".vector_cache/glove.6B.zip: 862MB [02:39, 5.41MB/s]                           \n",
            "100%|█████████▉| 399999/400000 [00:46<00:00, 8666.54it/s]\n"
          ]
        }
      ]
    },
    {
      "cell_type": "code",
      "source": [
        "sample_emb = glove_embedding[\"heater\"]\n",
        "print(sample_emb)"
      ],
      "metadata": {
        "colab": {
          "base_uri": "https://localhost:8080/"
        },
        "id": "J9JWztKvFau9",
        "outputId": "d145f60e-0998-4f01-edd0-9dbd6408aaee"
      },
      "execution_count": 51,
      "outputs": [
        {
          "output_type": "stream",
          "name": "stdout",
          "text": [
            "tensor([ 5.8982e-01,  1.2853e-01, -2.5551e-01, -3.1889e-01, -8.7623e-02,\n",
            "         1.2859e-02,  1.4171e-01, -1.0384e-02, -4.3160e-01, -1.9889e-01,\n",
            "        -3.9704e-01,  1.6323e-01,  4.3911e-01, -8.0239e-02, -1.3800e-01,\n",
            "         6.7812e-01, -1.9284e-01,  1.9053e-01,  1.2364e-01,  1.6491e-01,\n",
            "         4.0839e-01,  2.7306e-01,  4.9132e-02, -3.5563e-01,  8.7836e-01,\n",
            "        -2.9003e-02,  2.5714e-02,  2.9068e-01, -1.0572e-01, -1.4999e-01,\n",
            "        -1.7801e-01,  3.1315e-01,  2.7408e-01, -6.0009e-02,  5.5913e-01,\n",
            "         2.7362e-01, -3.3265e-01, -1.2201e-01,  2.6234e-01,  8.7877e-01,\n",
            "         6.7768e-01,  6.2446e-01, -2.1079e-01, -2.9038e-01, -3.7958e-01,\n",
            "         5.0669e-01,  2.6711e-01, -2.2382e-01, -4.6076e-01, -1.5841e-01,\n",
            "         1.0319e-01,  1.1554e-01, -7.4071e-02, -3.0610e-01,  2.9418e-01,\n",
            "         4.6540e-01,  8.8734e-01,  3.7541e-01,  4.0763e-01,  7.6471e-01,\n",
            "        -1.3661e-01,  2.0058e-01,  5.1878e-01,  3.6418e-01, -4.0046e-01,\n",
            "         5.5220e-01, -1.8583e-01, -2.1909e-01, -4.0608e-01,  4.0136e-01,\n",
            "         4.6807e-01, -6.0876e-01,  1.8527e-01, -2.6100e-02, -6.0966e-01,\n",
            "         3.1886e-01, -3.2977e-01, -3.1001e-01, -4.4853e-01, -1.4240e-01,\n",
            "         2.6162e-01,  1.4188e-01, -3.2212e-02, -1.0079e-01,  1.2935e-01,\n",
            "        -1.6244e-01,  7.3784e-02,  2.0408e-03, -7.5390e-02, -4.1053e-01,\n",
            "         7.9456e-01,  4.7287e-01,  2.3931e-01,  3.1106e-01,  5.2722e-01,\n",
            "        -1.0869e-01,  1.1677e-01,  9.3399e-02,  2.5638e-01,  5.4283e-02,\n",
            "        -5.4796e-01,  6.2451e-01, -1.8699e-01, -7.0737e-01,  7.1918e-01,\n",
            "        -2.9932e-02, -8.7658e-02,  1.1740e-01, -3.6304e-01,  2.4666e-01,\n",
            "         2.8149e-01, -2.6947e-01,  1.1289e-01, -1.1920e-01, -8.4363e-01,\n",
            "        -5.1942e-01, -6.1166e-01, -2.3364e-01,  2.0840e-01,  1.0554e-01,\n",
            "         3.5861e-01,  7.3907e-03,  2.4449e-01, -1.9026e-01,  1.6850e-01,\n",
            "        -2.6430e-01, -7.0368e-02, -6.0348e-01, -4.5335e-02, -2.5031e-01,\n",
            "         5.3478e-01,  2.4880e-01,  3.1555e-01, -1.0714e-01,  6.9964e-01,\n",
            "        -1.2613e-01, -1.1322e-01,  3.7441e-01, -3.2019e-02, -6.2417e-02,\n",
            "         1.9592e-01, -2.1743e-01,  5.8244e-01,  4.9975e-02, -7.1983e-01,\n",
            "         6.1463e-01, -8.7171e-02, -5.4797e-01,  6.9032e-01, -3.0332e-02,\n",
            "        -1.8413e-01,  7.1009e-03,  2.7266e-01, -2.4089e-01,  7.4874e-02,\n",
            "        -1.5832e-01,  5.8253e-01,  8.5074e-02,  7.5209e-02,  1.5534e-02,\n",
            "        -1.3869e-01, -6.8915e-01,  1.4541e-01,  3.1882e-01,  1.0301e+00,\n",
            "        -1.9118e-01, -9.2783e-02, -2.1637e-01,  9.6525e-02, -1.3433e-01,\n",
            "        -2.5024e-01,  7.4209e-01, -1.2494e-01,  3.8392e-01, -5.6081e-01,\n",
            "        -1.1694e-01, -1.4518e-01,  3.1496e-01,  5.6518e-01, -2.1604e-01,\n",
            "        -3.2113e-02,  1.1667e-01,  3.2719e-01,  3.0540e-01,  1.0159e-01,\n",
            "         1.7928e-01,  1.1547e+00,  4.3886e-01,  1.1515e-01,  3.8415e-02,\n",
            "         5.4094e-01, -1.6264e-01, -3.3611e-01,  2.3636e-01,  1.2709e-01,\n",
            "        -3.1041e-01, -7.2928e-01,  5.2600e-01, -1.7371e-01, -5.3073e-01,\n",
            "        -8.1353e-01,  5.2701e-01,  1.0424e+00,  1.8572e-01,  9.6719e-01,\n",
            "        -1.4299e-01, -1.9046e-01, -2.2685e-01, -6.4501e-01,  1.0531e-01,\n",
            "        -1.9889e-01, -1.4591e-01,  1.5821e-01, -2.9957e-01,  4.5944e-01,\n",
            "         8.2509e-02, -3.8306e-02, -4.6915e-01,  9.5047e-04, -2.2940e-01,\n",
            "        -5.0905e-02, -1.3408e-01, -4.9401e-01,  1.0372e-01,  2.3197e-01,\n",
            "        -1.2745e-02, -5.6759e-01,  2.6757e-01,  6.7303e-01, -2.7950e-01,\n",
            "         1.4005e-01, -8.6659e-01, -9.7228e-02, -8.3893e-01,  1.7140e-01,\n",
            "        -5.3678e-01,  1.3399e-01,  2.8180e-01,  2.4716e-02, -7.2638e-02,\n",
            "         5.1656e-01, -4.6134e-01, -5.3918e-01, -2.1833e-01,  7.9970e-02,\n",
            "         8.5901e-03,  6.0868e-01, -5.7485e-01, -6.7342e-03, -6.0056e-01,\n",
            "        -1.2326e-01, -4.8436e-01, -1.4811e-01, -3.1253e-01,  1.5350e-01,\n",
            "         7.4767e-02, -4.4672e-01, -7.0804e-01,  2.8845e-01, -3.0654e-01,\n",
            "        -7.4941e-02, -5.3373e-01, -9.7109e-02, -3.5848e-01, -3.2234e-01,\n",
            "         2.3673e-01, -9.3267e-02,  5.7962e-01,  6.5611e-01,  4.3014e-01,\n",
            "         1.6733e-01, -1.7613e-01, -1.0549e-01, -1.1496e-01, -4.3913e-01,\n",
            "         8.4003e-01, -5.7462e-01,  2.9617e-01, -9.6200e-01,  2.2034e-01,\n",
            "        -3.1610e-01,  4.9630e-01,  4.6933e-01,  2.0520e-01, -6.9461e-02,\n",
            "         1.4949e-01, -2.4385e-01, -6.4194e-01, -4.5205e-01, -1.7230e-01,\n",
            "        -3.2544e-01,  3.9680e-01,  6.0065e-01, -2.0095e-01, -1.4528e-01,\n",
            "        -2.1679e-01, -8.1056e-02,  4.4298e-02, -1.3966e-01,  5.3726e-01])\n"
          ]
        }
      ]
    },
    {
      "cell_type": "markdown",
      "source": [
        "# Load Data"
      ],
      "metadata": {
        "id": "EnRjqpw-FmZ-"
      }
    },
    {
      "cell_type": "code",
      "source": [
        "import numpy as np\n",
        "\n",
        "y_pred = np.load(\"anomaly predictions.npy\")\n",
        "y_true = np.load(\"anomaly true values.npy\")\n",
        "\n",
        "actual_names = []\n",
        "with open(\"names.txt\", \"r\") as f:\n",
        "  actual_names = f.readlines()\n",
        "\n",
        "\n",
        "print(y_pred.shape)\n",
        "print(y_true.shape)\n",
        "print(len(actual_names))"
      ],
      "metadata": {
        "colab": {
          "base_uri": "https://localhost:8080/"
        },
        "id": "hAI4fUfsFo1-",
        "outputId": "c0536b96-44ab-4126-c2e2-2a9219c28ce7"
      },
      "execution_count": 7,
      "outputs": [
        {
          "output_type": "stream",
          "name": "stdout",
          "text": [
            "(22000, 300)\n",
            "(22000, 300)\n",
            "22000\n"
          ]
        }
      ]
    },
    {
      "cell_type": "markdown",
      "source": [
        "# Find Predictions"
      ],
      "metadata": {
        "id": "0Sjj2gYVHL1R"
      }
    },
    {
      "cell_type": "markdown",
      "source": [
        "## find nearest word function"
      ],
      "metadata": {
        "id": "cg_6EgnHWx2y"
      }
    },
    {
      "cell_type": "code",
      "source": [
        "glove_keys = list(glove_embedding.stoi.keys())\n",
        "print(glove_keys[100:110])"
      ],
      "metadata": {
        "colab": {
          "base_uri": "https://localhost:8080/"
        },
        "id": "P3iu3PCMSGrh",
        "outputId": "dc058f04-1b6e-4126-f0c9-eee5a2fee9bd"
      },
      "execution_count": 28,
      "outputs": [
        {
          "output_type": "stream",
          "name": "stdout",
          "text": [
            "['so', 'them', 'what', 'him', 'united', 'during', 'before', 'may', 'since', 'many']\n"
          ]
        }
      ]
    },
    {
      "cell_type": "code",
      "source": [
        "from annoy import AnnoyIndex\n",
        "from tqdm import tqdm\n",
        "\n",
        "num_trees = 50\n",
        "\n",
        "ann_index = AnnoyIndex(300, 'euclidean')\n",
        "\n",
        "for idx, key in tqdm(enumerate(glove_keys)):\n",
        "  ann_index.add_item(idx, glove_embedding[key])\n",
        "\n",
        "\n",
        "ann_index.build(num_trees)"
      ],
      "metadata": {
        "colab": {
          "base_uri": "https://localhost:8080/"
        },
        "id": "v2v_7Jg2Rl3Z",
        "outputId": "8152c31d-0079-4d39-f629-e46c9853d602"
      },
      "execution_count": 52,
      "outputs": [
        {
          "output_type": "stream",
          "name": "stderr",
          "text": [
            "400000it [04:23, 1519.80it/s]\n"
          ]
        },
        {
          "output_type": "execute_result",
          "data": {
            "text/plain": [
              "True"
            ]
          },
          "metadata": {},
          "execution_count": 52
        }
      ]
    },
    {
      "cell_type": "code",
      "source": [
        "def find_nearest_words(vector, k, ann_index, glove_embedding):\n",
        "  closest_item_indices = ann_index.get_nns_by_vector(vector, k)\n",
        "  result = []\n",
        "  for idx in closest_item_indices:\n",
        "    word = glove_embedding.itos[idx]\n",
        "    result.append(word)\n",
        "  \n",
        "\n",
        "  return result\n"
      ],
      "metadata": {
        "id": "QjEAmoEjV3fi"
      },
      "execution_count": 53,
      "outputs": []
    },
    {
      "cell_type": "code",
      "source": [
        "sample_vec = glove_embedding.get_vecs_by_tokens(\"espresso\")\n",
        "\n",
        "sample_result = find_nearest_words(sample_vec, 10, ann_index, glove_embedding)\n",
        "\n",
        "print(sample_result)"
      ],
      "metadata": {
        "colab": {
          "base_uri": "https://localhost:8080/"
        },
        "id": "bb1OX8xnHoJn",
        "outputId": "1abbccb8-ae8b-4f8a-e6f6-b98cd9aeda56"
      },
      "execution_count": 55,
      "outputs": [
        {
          "output_type": "stream",
          "name": "stdout",
          "text": [
            "['espresso', 'cappuccino', 'concoction', 'brewed', 'chocolate', 'iced', 'sipping', 'flavored', 'infused', 'dessert']\n"
          ]
        }
      ]
    },
    {
      "cell_type": "markdown",
      "source": [
        "## find nearest words in my predictions"
      ],
      "metadata": {
        "id": "4OAazTRTW3rD"
      }
    },
    {
      "cell_type": "code",
      "source": [
        "# find_nearest_words(vector, k, ann_index, glove_embedding)\n",
        "\n",
        "knn = 1\n",
        "\n",
        "final_result = {}\n",
        "\n",
        "for idx in tqdm(range(len(actual_names))):\n",
        "  true_name = actual_names[idx]\n",
        "  if true_name not in final_result.keys():\n",
        "    final_result[true_name] = {}\n",
        "  \n",
        "  # fix me\n",
        "  pred_emb = y_pred[idx, :]\n",
        "  pred_words = find_nearest_words(pred_emb, knn, ann_index, glove_embedding)\n",
        "\n",
        "  for pred_name in pred_words:\n",
        "    if pred_name not in final_result[true_name].keys():\n",
        "      final_result[true_name][pred_name] = 1\n",
        "    else:\n",
        "      final_result[true_name][pred_name] += 1\n"
      ],
      "metadata": {
        "colab": {
          "base_uri": "https://localhost:8080/"
        },
        "id": "KH4vyrRwW8TO",
        "outputId": "5732c8d6-fda1-49ba-989b-ce76d256676c"
      },
      "execution_count": 61,
      "outputs": [
        {
          "output_type": "stream",
          "name": "stderr",
          "text": [
            "100%|██████████| 22000/22000 [00:02<00:00, 10099.36it/s]\n"
          ]
        }
      ]
    },
    {
      "cell_type": "code",
      "source": [
        "final_result"
      ],
      "metadata": {
        "colab": {
          "base_uri": "https://localhost:8080/"
        },
        "id": "OfhfFM-HY847",
        "outputId": "777c1f24-cef8-4fc3-b4d8-d910d36c2137"
      },
      "execution_count": 62,
      "outputs": [
        {
          "output_type": "execute_result",
          "data": {
            "text/plain": [
              "{'African elephant_Loxodonta africana\\n': {'tvtonightnytsyn.com': 550},\n",
              " 'apron\\n': {'tvtonightnytsyn.com': 549, 'proverbial': 1},\n",
              " 'bee\\n': {'tvtonightnytsyn.com': 550},\n",
              " 'bighorn_bighorn sheep_cimarron_Rocky Mountain bighorn_Rocky Mountain sheep_Ovis canadensis\\n': {'tvtonightnytsyn.com': 550},\n",
              " 'black stork_Ciconia nigra\\n': {'tvtonightnytsyn.com': 550},\n",
              " 'broom\\n': {'tvtonightnytsyn.com': 548, 'proverbial': 2},\n",
              " 'butcher shop_meat market\\n': {'tvtonightnytsyn.com': 550},\n",
              " 'centipede\\n': {'tvtonightnytsyn.com': 550},\n",
              " 'chimpanzee_chimp_Pan troglodytes\\n': {'tvtonightnytsyn.com': 550},\n",
              " 'confectionery_confectionary_candy store\\n': {'tvtonightnytsyn.com': 550},\n",
              " 'convertible\\n': {'tvtonightnytsyn.com': 550},\n",
              " \"dragonfly_darning needle_devil's darning needle_sewing needle_snake feeder_snake doctor_mosquito hawk_skeeter hawk\\n\": {'tvtonightnytsyn.com': 550},\n",
              " 'espresso\\n': {'tvtonightnytsyn.com': 550},\n",
              " 'goldfish_Carassius auratus\\n': {'tvtonightnytsyn.com': 549, 'proverbial': 1},\n",
              " 'hourglass\\n': {'tvtonightnytsyn.com': 549, 'proverbial': 1},\n",
              " 'jinrikisha_ricksha_rickshaw\\n': {'tvtonightnytsyn.com': 550},\n",
              " 'Labrador retriever\\n': {'tvtonightnytsyn.com': 550},\n",
              " 'ladybug_ladybeetle_lady beetle_ladybird_ladybird beetle\\n': {'tvtonightnytsyn.com': 550},\n",
              " 'lesser panda_red panda_panda_bear cat_cat bear_Ailurus fulgens\\n': {'tvtonightnytsyn.com': 550},\n",
              " 'lion_king of beasts_Panthera leo\\n': {'tvtonightnytsyn.com': 550},\n",
              " 'military uniform\\n': {'tvtonightnytsyn.com': 550},\n",
              " 'moving van\\n': {'tvtonightnytsyn.com': 550},\n",
              " 'orange\\n': {'tvtonightnytsyn.com': 520, 'proverbial': 30},\n",
              " 'organ_pipe organ\\n': {'tvtonightnytsyn.com': 550},\n",
              " 'pay-phone_pay-station\\n': {'tvtonightnytsyn.com': 550},\n",
              " 'Persian cat\\n': {'tvtonightnytsyn.com': 550},\n",
              " 'pizza_pizza pie\\n': {'tvtonightnytsyn.com': 548, 'proverbial': 2},\n",
              " 'poncho\\n': {'tvtonightnytsyn.com': 550},\n",
              " 'potpie\\n': {'tvtonightnytsyn.com': 549, 'proverbial': 1},\n",
              " 'punching bag_punch bag_punching ball_punchball\\n': {'tvtonightnytsyn.com': 550},\n",
              " 'school bus\\n': {'tvtonightnytsyn.com': 550},\n",
              " 'sombrero\\n': {'tvtonightnytsyn.com': 550},\n",
              " 'sulphur butterfly_sulfur butterfly\\n': {'tvtonightnytsyn.com': 550},\n",
              " 'syringe\\n': {'tvtonightnytsyn.com': 550},\n",
              " 'tailed frog_bell toad_ribbed toad_tailed toad_Ascaphus trui\\n': {'tvtonightnytsyn.com': 550},\n",
              " 'torch\\n': {'tvtonightnytsyn.com': 550},\n",
              " 'trilobite\\n': {'tvtonightnytsyn.com': 549, 'proverbial': 1},\n",
              " 'umbrella\\n': {'tvtonightnytsyn.com': 550},\n",
              " 'wooden spoon\\n': {'tvtonightnytsyn.com': 550},\n",
              " 'Yorkshire terrier\\n': {'tvtonightnytsyn.com': 550}}"
            ]
          },
          "metadata": {},
          "execution_count": 62
        }
      ]
    },
    {
      "cell_type": "code",
      "source": [
        "import json\n",
        "\n",
        "json = json.dumps(final_result)\n",
        "\n",
        "with open(\"final_result_euclidean_{}.json\".format(knn),\"w\") as f:\n",
        "  f.write(json)\n"
      ],
      "metadata": {
        "id": "44wX2Ez2ax38"
      },
      "execution_count": 63,
      "outputs": []
    }
  ]
}