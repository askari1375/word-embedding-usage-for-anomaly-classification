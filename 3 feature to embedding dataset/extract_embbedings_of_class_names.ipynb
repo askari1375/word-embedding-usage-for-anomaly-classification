{
  "nbformat": 4,
  "nbformat_minor": 0,
  "metadata": {
    "colab": {
      "provenance": []
    },
    "kernelspec": {
      "name": "python3",
      "display_name": "Python 3"
    },
    "language_info": {
      "name": "python"
    }
  },
  "cells": [
    {
      "cell_type": "markdown",
      "source": [
        "# Configuration"
      ],
      "metadata": {
        "id": "OcV3CiZyPEy_"
      }
    },
    {
      "cell_type": "code",
      "source": [
        "from google.colab import drive\n",
        "drive.mount('/content/drive/')"
      ],
      "metadata": {
        "colab": {
          "base_uri": "https://localhost:8080/"
        },
        "id": "WKI2o2qHNKj1",
        "outputId": "60b2f78d-b7af-461d-e1e9-3b1f77423983"
      },
      "execution_count": null,
      "outputs": [
        {
          "output_type": "stream",
          "name": "stdout",
          "text": [
            "Mounted at /content/drive/\n"
          ]
        }
      ]
    },
    {
      "cell_type": "code",
      "source": [
        "cd drive/My Drive/Research/Word embedding usage for anomaly classification/extract class names embeddings"
      ],
      "metadata": {
        "colab": {
          "base_uri": "https://localhost:8080/"
        },
        "id": "Z-KnJ2BLNY0s",
        "outputId": "f10edfab-0b14-4f92-9ce0-3b01895aba1c"
      },
      "execution_count": null,
      "outputs": [
        {
          "output_type": "stream",
          "name": "stdout",
          "text": [
            "/content/drive/My Drive/Research/Word embedding usage for anomaly classification/extract class names embeddings\n"
          ]
        }
      ]
    },
    {
      "cell_type": "code",
      "source": [
        "!ls"
      ],
      "metadata": {
        "colab": {
          "base_uri": "https://localhost:8080/"
        },
        "id": "1Bbh4exfNuFh",
        "outputId": "88954981-4377-4105-e04f-61a7fbad9987"
      },
      "execution_count": null,
      "outputs": [
        {
          "output_type": "stream",
          "name": "stdout",
          "text": [
            "'all names.txt'\t\t\t\t   final_names.txt\n",
            " extract-embbedings-of-class-names.ipynb  'modified names.txt'\n",
            " final_embs.npy\t\t\t\t  'names without embeddings.txt'\n"
          ]
        }
      ]
    },
    {
      "cell_type": "code",
      "execution_count": null,
      "metadata": {
        "colab": {
          "base_uri": "https://localhost:8080/"
        },
        "id": "pEGkUDyDMMNr",
        "outputId": "fa9bbb37-49cf-4eca-da8c-eb6334ac6d9d"
      },
      "outputs": [
        {
          "output_type": "stream",
          "name": "stderr",
          "text": [
            "[nltk_data] Downloading package punkt to /root/nltk_data...\n",
            "[nltk_data]   Unzipping tokenizers/punkt.zip.\n",
            "[nltk_data] Downloading package wordnet to /root/nltk_data...\n",
            "[nltk_data] Downloading package stopwords to /root/nltk_data...\n",
            "[nltk_data]   Unzipping corpora/stopwords.zip.\n"
          ]
        },
        {
          "output_type": "execute_result",
          "data": {
            "text/plain": [
              "True"
            ]
          },
          "metadata": {},
          "execution_count": 4
        }
      ],
      "source": [
        "from torchtext.vocab import GloVe\n",
        "from nltk import word_tokenize, sent_tokenize, RegexpTokenizer\n",
        "import nltk\n",
        "import numpy as np\n",
        "\n",
        "nltk.download('punkt')\n",
        "nltk.download('wordnet')\n",
        "nltk.download('stopwords')"
      ]
    },
    {
      "cell_type": "code",
      "source": [
        "glove_embedding = GloVe(name='6B', dim=300)"
      ],
      "metadata": {
        "id": "aagfEPU2MtTE"
      },
      "execution_count": null,
      "outputs": []
    },
    {
      "cell_type": "code",
      "source": [
        "sample_emb = glove_embedding[\"heater\"]\n",
        "print(sample_emb)"
      ],
      "metadata": {
        "colab": {
          "base_uri": "https://localhost:8080/"
        },
        "id": "rH3BjTozl2fX",
        "outputId": "3f214b9a-7020-42c1-9a91-e8277dd0cf89"
      },
      "execution_count": null,
      "outputs": [
        {
          "output_type": "stream",
          "name": "stdout",
          "text": [
            "tensor([ 5.8982e-01,  1.2853e-01, -2.5551e-01, -3.1889e-01, -8.7623e-02,\n",
            "         1.2859e-02,  1.4171e-01, -1.0384e-02, -4.3160e-01, -1.9889e-01,\n",
            "        -3.9704e-01,  1.6323e-01,  4.3911e-01, -8.0239e-02, -1.3800e-01,\n",
            "         6.7812e-01, -1.9284e-01,  1.9053e-01,  1.2364e-01,  1.6491e-01,\n",
            "         4.0839e-01,  2.7306e-01,  4.9132e-02, -3.5563e-01,  8.7836e-01,\n",
            "        -2.9003e-02,  2.5714e-02,  2.9068e-01, -1.0572e-01, -1.4999e-01,\n",
            "        -1.7801e-01,  3.1315e-01,  2.7408e-01, -6.0009e-02,  5.5913e-01,\n",
            "         2.7362e-01, -3.3265e-01, -1.2201e-01,  2.6234e-01,  8.7877e-01,\n",
            "         6.7768e-01,  6.2446e-01, -2.1079e-01, -2.9038e-01, -3.7958e-01,\n",
            "         5.0669e-01,  2.6711e-01, -2.2382e-01, -4.6076e-01, -1.5841e-01,\n",
            "         1.0319e-01,  1.1554e-01, -7.4071e-02, -3.0610e-01,  2.9418e-01,\n",
            "         4.6540e-01,  8.8734e-01,  3.7541e-01,  4.0763e-01,  7.6471e-01,\n",
            "        -1.3661e-01,  2.0058e-01,  5.1878e-01,  3.6418e-01, -4.0046e-01,\n",
            "         5.5220e-01, -1.8583e-01, -2.1909e-01, -4.0608e-01,  4.0136e-01,\n",
            "         4.6807e-01, -6.0876e-01,  1.8527e-01, -2.6100e-02, -6.0966e-01,\n",
            "         3.1886e-01, -3.2977e-01, -3.1001e-01, -4.4853e-01, -1.4240e-01,\n",
            "         2.6162e-01,  1.4188e-01, -3.2212e-02, -1.0079e-01,  1.2935e-01,\n",
            "        -1.6244e-01,  7.3784e-02,  2.0408e-03, -7.5390e-02, -4.1053e-01,\n",
            "         7.9456e-01,  4.7287e-01,  2.3931e-01,  3.1106e-01,  5.2722e-01,\n",
            "        -1.0869e-01,  1.1677e-01,  9.3399e-02,  2.5638e-01,  5.4283e-02,\n",
            "        -5.4796e-01,  6.2451e-01, -1.8699e-01, -7.0737e-01,  7.1918e-01,\n",
            "        -2.9932e-02, -8.7658e-02,  1.1740e-01, -3.6304e-01,  2.4666e-01,\n",
            "         2.8149e-01, -2.6947e-01,  1.1289e-01, -1.1920e-01, -8.4363e-01,\n",
            "        -5.1942e-01, -6.1166e-01, -2.3364e-01,  2.0840e-01,  1.0554e-01,\n",
            "         3.5861e-01,  7.3907e-03,  2.4449e-01, -1.9026e-01,  1.6850e-01,\n",
            "        -2.6430e-01, -7.0368e-02, -6.0348e-01, -4.5335e-02, -2.5031e-01,\n",
            "         5.3478e-01,  2.4880e-01,  3.1555e-01, -1.0714e-01,  6.9964e-01,\n",
            "        -1.2613e-01, -1.1322e-01,  3.7441e-01, -3.2019e-02, -6.2417e-02,\n",
            "         1.9592e-01, -2.1743e-01,  5.8244e-01,  4.9975e-02, -7.1983e-01,\n",
            "         6.1463e-01, -8.7171e-02, -5.4797e-01,  6.9032e-01, -3.0332e-02,\n",
            "        -1.8413e-01,  7.1009e-03,  2.7266e-01, -2.4089e-01,  7.4874e-02,\n",
            "        -1.5832e-01,  5.8253e-01,  8.5074e-02,  7.5209e-02,  1.5534e-02,\n",
            "        -1.3869e-01, -6.8915e-01,  1.4541e-01,  3.1882e-01,  1.0301e+00,\n",
            "        -1.9118e-01, -9.2783e-02, -2.1637e-01,  9.6525e-02, -1.3433e-01,\n",
            "        -2.5024e-01,  7.4209e-01, -1.2494e-01,  3.8392e-01, -5.6081e-01,\n",
            "        -1.1694e-01, -1.4518e-01,  3.1496e-01,  5.6518e-01, -2.1604e-01,\n",
            "        -3.2113e-02,  1.1667e-01,  3.2719e-01,  3.0540e-01,  1.0159e-01,\n",
            "         1.7928e-01,  1.1547e+00,  4.3886e-01,  1.1515e-01,  3.8415e-02,\n",
            "         5.4094e-01, -1.6264e-01, -3.3611e-01,  2.3636e-01,  1.2709e-01,\n",
            "        -3.1041e-01, -7.2928e-01,  5.2600e-01, -1.7371e-01, -5.3073e-01,\n",
            "        -8.1353e-01,  5.2701e-01,  1.0424e+00,  1.8572e-01,  9.6719e-01,\n",
            "        -1.4299e-01, -1.9046e-01, -2.2685e-01, -6.4501e-01,  1.0531e-01,\n",
            "        -1.9889e-01, -1.4591e-01,  1.5821e-01, -2.9957e-01,  4.5944e-01,\n",
            "         8.2509e-02, -3.8306e-02, -4.6915e-01,  9.5047e-04, -2.2940e-01,\n",
            "        -5.0905e-02, -1.3408e-01, -4.9401e-01,  1.0372e-01,  2.3197e-01,\n",
            "        -1.2745e-02, -5.6759e-01,  2.6757e-01,  6.7303e-01, -2.7950e-01,\n",
            "         1.4005e-01, -8.6659e-01, -9.7228e-02, -8.3893e-01,  1.7140e-01,\n",
            "        -5.3678e-01,  1.3399e-01,  2.8180e-01,  2.4716e-02, -7.2638e-02,\n",
            "         5.1656e-01, -4.6134e-01, -5.3918e-01, -2.1833e-01,  7.9970e-02,\n",
            "         8.5901e-03,  6.0868e-01, -5.7485e-01, -6.7342e-03, -6.0056e-01,\n",
            "        -1.2326e-01, -4.8436e-01, -1.4811e-01, -3.1253e-01,  1.5350e-01,\n",
            "         7.4767e-02, -4.4672e-01, -7.0804e-01,  2.8845e-01, -3.0654e-01,\n",
            "        -7.4941e-02, -5.3373e-01, -9.7109e-02, -3.5848e-01, -3.2234e-01,\n",
            "         2.3673e-01, -9.3267e-02,  5.7962e-01,  6.5611e-01,  4.3014e-01,\n",
            "         1.6733e-01, -1.7613e-01, -1.0549e-01, -1.1496e-01, -4.3913e-01,\n",
            "         8.4003e-01, -5.7462e-01,  2.9617e-01, -9.6200e-01,  2.2034e-01,\n",
            "        -3.1610e-01,  4.9630e-01,  4.6933e-01,  2.0520e-01, -6.9461e-02,\n",
            "         1.4949e-01, -2.4385e-01, -6.4194e-01, -4.5205e-01, -1.7230e-01,\n",
            "        -3.2544e-01,  3.9680e-01,  6.0065e-01, -2.0095e-01, -1.4528e-01,\n",
            "        -2.1679e-01, -8.1056e-02,  4.4298e-02, -1.3966e-01,  5.3726e-01])\n"
          ]
        }
      ]
    },
    {
      "cell_type": "markdown",
      "source": [
        "# Load Data"
      ],
      "metadata": {
        "id": "uUQz3SViPKdI"
      }
    },
    {
      "cell_type": "code",
      "source": [
        "all_names = []\n",
        "with open(\"all names.txt\", \"r\") as f:\n",
        "  data = f.readlines()\n",
        "\n",
        "for name in data:\n",
        "  all_names.append(name[:-1])\n",
        "\n",
        "print(all_names)"
      ],
      "metadata": {
        "colab": {
          "base_uri": "https://localhost:8080/"
        },
        "id": "MXkPSzg-M0Sk",
        "outputId": "ba9a729a-37f4-476d-ad43-5fae460c9447"
      },
      "execution_count": null,
      "outputs": [
        {
          "output_type": "stream",
          "name": "stdout",
          "text": [
            "['abacus', \"academic gown_academic robe_judge's robe\", 'acorn', 'albatross_mollymawk', 'alp', 'altar', 'American alligator_Alligator mississipiensis', 'American lobster_Northern lobster_Maine lobster_Homarus americanus', 'Arabian camel_dromedary_Camelus dromedarius', 'baboon', 'backpack_back pack_knapsack_packsack_rucksack_haversack', 'banana', 'bannister_banister_balustrade_balusters_handrail', 'barbershop', 'barn', 'barrel_cask', 'basketball', 'bathtub_bathing tub_bath_tub', 'beach wagon_station wagon_wagon_estate car_beach waggon_station waggon_waggon', 'beacon_lighthouse_beacon light_pharos', 'beaker', 'beer bottle', 'bell pepper', 'bikini_two-piece', 'binoculars_field glasses_opera glasses', 'birdhouse', 'bison', 'black widow_Latrodectus mactans', 'boa constrictor_Constrictor constrictor', 'bow tie_bow-tie_bowtie', 'brain coral', 'brass_memorial tablet_plaque', 'brown bear_bruin_Ursus arctos', 'bucket_pail', 'bullet train_bullet', 'bullfrog_Rana catesbeiana', 'candle_taper_wax light', 'cannon', 'cardigan', 'cash machine_cash dispenser_automated teller machine_automatic teller machine_automated teller_automatic teller_ATM', 'cauliflower', 'CD player', 'chain', 'chest', 'Chihuahua', 'Christmas stocking', 'cliff dwelling', 'cliff_drop_drop-off', 'cockroach_roach', 'comic book', 'computer keyboard_keypad', 'coral reef', 'cougar_puma_catamount_mountain lion_painter_panther_Felis concolor', 'crane', 'dam_dike_dyke', 'desk', 'dining table_board', 'drumstick', 'dugong_Dugong dugon', 'dumbbell', 'Egyptian cat', 'European fire salamander_Salamandra salamandra', 'flagpole_flagstaff', 'fly', 'fountain', 'freight car', 'frying pan_frypan_skillet', 'fur coat', 'gasmask_respirator_gas helmet', 'gazelle', 'German shepherd_German shepherd dog_German police dog_alsatian', 'go-kart', 'golden retriever', 'gondola', 'goose', 'grasshopper_hopper', 'guacamole', 'guinea pig_Cavia cobaya', 'hog_pig_grunter_squealer_Sus scrofa', 'ice cream_icecream', 'ice lolly_lolly_lollipop_popsicle', 'iPod', 'jellyfish', 'kimono', 'king penguin_Aptenodytes patagonica', 'koala_koala bear_kangaroo bear_native bear_Phascolarctos cinereus', 'lakeside_lakeshore', 'lampshade_lamp shade', 'lawn mower_mower', 'lemon', 'lifeboat', 'limousine_limo', 'magnetic compass', 'mantis_mantid', 'mashed potato', 'maypole', 'meat loaf_meatloaf', 'miniskirt_mini', 'monarch_monarch butterfly_milkweed butterfly_Danaus plexippus', 'mushroom', 'nail', 'neck brace', 'obelisk', 'oboe_hautboy_hautbois', 'orangutan_orang_orangutang_Pongo pygmaeus', 'ox', 'parking meter', 'picket fence_paling', 'pill bottle', 'plate', \"plunger_plumber's helper\", 'pole', 'police van_police wagon_paddy wagon_patrol wagon_wagon_black Maria', 'pomegranate', 'pop bottle_soda bottle', \"potter's wheel\", 'pretzel', 'projectile_missile', 'reel', 'refrigerator_icebox', 'remote control_remote', 'rocking chair_rocker', 'rugby ball', 'sandal', 'scoreboard', 'scorpion', 'sea cucumber_holothurian', 'sea slug_nudibranch', 'seashore_coast_seacoast_sea-coast', 'sewing machine', 'slug', 'snail', 'snorkel', 'sock', 'space heater', \"spider web_spider's web\", 'spiny lobster_langouste_rock lobster_crawfish_crayfish_sea crawfish', 'sports car_sport car', 'standard poodle', 'steel arch bridge', 'stopwatch_stop watch', 'sunglasses_dark glasses_shades', 'suspension bridge', 'swimming trunks_bathing trunks', 'tabby_tabby cat', 'tarantula', 'teapot', 'teddy_teddy bear', 'thatch_thatched roof', 'tractor', 'triumphal arch', 'trolleybus_trolley coach_trackless trolley', 'turnstile', 'vestment', 'viaduct', 'volleyball', 'walking stick_walkingstick_stick insect', 'water jug', 'water tower', 'wok', 'African elephant_Loxodonta africana', 'apron', 'bee', 'bighorn_bighorn sheep_cimarron_Rocky Mountain bighorn_Rocky Mountain sheep_Ovis canadensis', 'black stork_Ciconia nigra', 'broom', 'butcher shop_meat market', 'centipede', 'chimpanzee_chimp_Pan troglodytes', 'confectionery_confectionary_candy store', 'convertible', \"dragonfly_darning needle_devil's darning needle_sewing needle_snake feeder_snake doctor_mosquito hawk_skeeter hawk\", 'espresso', 'goldfish_Carassius auratus', 'hourglass', 'jinrikisha_ricksha_rickshaw', 'Labrador retriever', 'ladybug_ladybeetle_lady beetle_ladybird_ladybird beetle', 'lesser panda_red panda_panda_bear cat_cat bear_Ailurus fulgens', 'lion_king of beasts_Panthera leo', 'military uniform', 'moving van', 'orange', 'organ_pipe organ', 'pay-phone_pay-station', 'Persian cat', 'pizza_pizza pie', 'poncho', 'potpie', 'punching bag_punch bag_punching ball_punchball', 'school bus', 'sombrero', 'sulphur butterfly_sulfur butterfly', 'syringe', 'tailed frog_bell toad_ribbed toad_tailed toad_Ascaphus trui', 'torch', 'trilobite', 'umbrella', 'wooden spoon', 'Yorkshire terrier']\n"
          ]
        }
      ]
    },
    {
      "cell_type": "markdown",
      "source": [
        "# GloVe"
      ],
      "metadata": {
        "id": "0hEH00XqP6Jt"
      }
    },
    {
      "cell_type": "code",
      "source": [
        "from torch import embedding\n",
        "def is_all_zero(tensor):\n",
        "  result = True\n",
        "  for k in tensor:\n",
        "    if k != 0:\n",
        "      result = False\n",
        "  \n",
        "  return result\n",
        "\n",
        "\n",
        "def find_embbedings(name):\n",
        "\n",
        "  parts = name.split(\"_\")\n",
        "\n",
        "  has_embedding = False\n",
        "  embeddings = []\n",
        "\n",
        "  for part in parts:    \n",
        "    emb = glove_embedding[part]\n",
        "    if not is_all_zero(emb):\n",
        "      has_embedding = True\n",
        "      embeddings.append(emb)\n",
        "  \n",
        "  return embeddings, has_embedding\n",
        "\n",
        "\n",
        "\n",
        "\n",
        "\n",
        "name = all_names[12]\n",
        "\n",
        "embs, has_embs = find_embbedings(name)\n",
        "\n",
        "print(name)\n",
        "print(has_embs)\n",
        "print(len(embs))"
      ],
      "metadata": {
        "colab": {
          "base_uri": "https://localhost:8080/"
        },
        "id": "qD6Fceh0P8E1",
        "outputId": "69402af4-50ea-4865-e9bc-500aeee623b5"
      },
      "execution_count": null,
      "outputs": [
        {
          "output_type": "stream",
          "name": "stdout",
          "text": [
            "bannister_banister_balustrade_balusters_handrail\n",
            "True\n",
            "5\n"
          ]
        }
      ]
    },
    {
      "cell_type": "code",
      "source": [
        "name_without_embs = []\n",
        "name_with_embs = []\n",
        "max_emb_num = 0\n",
        "best_name = \"\"\n",
        "best_idx = -1\n",
        "\n",
        "for idx, name in enumerate(all_names):\n",
        "  embeddings, has_embedding = find_embbedings(name)\n",
        "  if not has_embedding:\n",
        "    name_without_embs.append(name)\n",
        "  else:\n",
        "    name_with_embs.append(name)\n",
        "  \n",
        "  if max_emb_num < len(embeddings):\n",
        "    max_emb_num = len(embeddings)\n",
        "    best_name = name\n",
        "    best_idx = idx\n",
        "\n",
        "\n",
        "\n",
        "print(\"Without embbeddings\\t:\\t{}\".format(len(name_without_embs)))\n",
        "print(\"With embbeddings\\t:\\t{}\".format(len(name_with_embs)))\n",
        "\n",
        "print(max_emb_num)\n",
        "print(best_name)\n",
        "print(best_idx)"
      ],
      "metadata": {
        "colab": {
          "base_uri": "https://localhost:8080/"
        },
        "id": "2VHe_8jMWPk3",
        "outputId": "406a2b17-5eba-4d85-fae7-1cece83fd3af"
      },
      "execution_count": null,
      "outputs": [
        {
          "output_type": "stream",
          "name": "stdout",
          "text": [
            "Without embbeddings\t:\t57\n",
            "With embbeddings\t:\t143\n",
            "5\n",
            "bannister_banister_balustrade_balusters_handrail\n",
            "12\n"
          ]
        }
      ]
    },
    {
      "cell_type": "code",
      "source": [
        "# with open(\"names without embeddings.txt\", 'w') as f:\n",
        "#   for name in name_without_embs:\n",
        "#     f.write(\"{}\\n\".format(name))"
      ],
      "metadata": {
        "id": "jqGfF3hRX3-f"
      },
      "execution_count": null,
      "outputs": []
    },
    {
      "cell_type": "markdown",
      "source": [
        "# Modified names and final embedings"
      ],
      "metadata": {
        "id": "JPobg1X5YVYT"
      }
    },
    {
      "cell_type": "code",
      "source": [
        "new_names = {}\n",
        "with open(\"modified names.txt\", \"r\") as f:\n",
        "  data = f.readlines()\n",
        "\n",
        "for row in data:\n",
        "  key, val = row.split(\"\\t=\\t\")\n",
        "  val = val[1:-2]\n",
        "  new_names[key] = val\n",
        "\n",
        "\n",
        "print(new_names)"
      ],
      "metadata": {
        "colab": {
          "base_uri": "https://localhost:8080/"
        },
        "id": "S4j8qv05YbB2",
        "outputId": "03e6fc82-25c7-412f-9fa7-8bfe28e7f357"
      },
      "execution_count": null,
      "outputs": [
        {
          "output_type": "stream",
          "name": "stdout",
          "text": [
            "{\"academic gown_academic robe_judge's robe\": 'academicals', 'American alligator_Alligator mississipiensis': 'alligator', 'American lobster_Northern lobster_Maine lobster_Homarus americanus': 'lobster', 'beer bottle': 'beer', 'bell pepper': 'pimento', 'black widow_Latrodectus mactans': 'spider', 'boa constrictor_Constrictor constrictor': 'snake', 'brain coral': 'coral', 'cash machine_cash dispenser_automated teller machine_automatic teller machine_automated teller_automatic teller_ATM': 'atm', 'CD player': 'hifi', 'Chihuahua': 'chihuahua', 'Christmas stocking': 'stocking', 'cliff dwelling': 'antiquities', 'comic book': 'comics', 'coral reef': 'coral', 'Egyptian cat': 'cat', 'European fire salamander_Salamandra salamandra': 'salamander', 'freight car': 'railcar', 'fur coat': 'coat', 'golden retriever': 'retriever', 'guinea pig_Cavia cobaya': 'cavia', 'iPod': 'ipod', 'king penguin_Aptenodytes patagonica': 'penguin', 'magnetic compass': 'compass', 'mashed potato': 'puree', 'neck brace': 'splint', 'parking meter': 'gauge', 'pill bottle': 'medicine', 'pop bottle_soda bottle': 'soda', \"potter's wheel\": 'pottery', 'rugby ball': 'rugby', 'sea cucumber_holothurian': 'sea_cucumber', 'sewing machine': 'tailoring', 'space heater': 'heater', \"spider web_spider's web\": 'cobweb', 'sports car_sport car': 'car', 'standard poodle': 'poodle', 'steel arch bridge': 'bridge', 'suspension bridge': 'bridge', 'swimming trunks_bathing trunks': 'swimsuit', 'triumphal arch': 'arch', 'water jug': 'jug', 'water tower': 'repository', 'African elephant_Loxodonta africana': 'elephant', 'black stork_Ciconia nigra': 'stork', 'butcher shop_meat market': 'butchery', 'Labrador retriever': 'retriever_labrador', 'military uniform': 'military_uniform', 'moving van': 'lorry', 'pay-phone_pay-station': 'telephone', 'Persian cat': 'cat', 'punching bag_punch bag_punching ball_punchball': 'punching', 'school bus': 'bus', 'sulphur butterfly_sulfur butterfly': 'butterfly', 'tailed frog_bell toad_ribbed toad_tailed toad_Ascaphus trui': 'frog', 'wooden spoon': 'spoon_spoon_spoon_wooden', 'Yorkshire terrier': 'yorkshire_terrier'}\n"
          ]
        }
      ]
    },
    {
      "cell_type": "code",
      "source": [
        "def get_embbeding(name):\n",
        "\n",
        "  embeddings, has_embedding = find_embbedings(name)\n",
        "  if not has_embedding:\n",
        "    embeddings, has_embedding = find_embbedings(new_names[name])\n",
        "  \n",
        "  numpy_embs = []\n",
        "  for tensor_emb in embeddings:\n",
        "    numpy_embs.append(tensor_emb.numpy())\n",
        "  \n",
        "  numpy_embs = np.array(numpy_embs)\n",
        "\n",
        "  final_emb = np.mean(numpy_embs, axis = 0)\n",
        "  \n",
        "  return final_emb\n",
        "  \n",
        "  \n",
        "\n",
        "final_names = []\n",
        "final_embs = []\n",
        "\n",
        "for name in all_names:\n",
        "  emb = get_embbeding(name)\n",
        "  final_names.append(name)\n",
        "  final_embs.append(emb)\n",
        "\n",
        "final_embs = np.array(final_embs)\n",
        "\n",
        "final_str = \"\"\n",
        "for name in final_names:\n",
        "  final_str += \"{}\\n\".format(name)\n",
        "\n",
        "print(final_embs.shape)\n",
        "print(final_str)"
      ],
      "metadata": {
        "colab": {
          "base_uri": "https://localhost:8080/"
        },
        "id": "mlAQZBmZgA96",
        "outputId": "ef248767-9a07-47bb-d793-b8732a8822a6"
      },
      "execution_count": null,
      "outputs": [
        {
          "output_type": "stream",
          "name": "stdout",
          "text": [
            "(200, 300)\n",
            "abacus\n",
            "academic gown_academic robe_judge's robe\n",
            "acorn\n",
            "albatross_mollymawk\n",
            "alp\n",
            "altar\n",
            "American alligator_Alligator mississipiensis\n",
            "American lobster_Northern lobster_Maine lobster_Homarus americanus\n",
            "Arabian camel_dromedary_Camelus dromedarius\n",
            "baboon\n",
            "backpack_back pack_knapsack_packsack_rucksack_haversack\n",
            "banana\n",
            "bannister_banister_balustrade_balusters_handrail\n",
            "barbershop\n",
            "barn\n",
            "barrel_cask\n",
            "basketball\n",
            "bathtub_bathing tub_bath_tub\n",
            "beach wagon_station wagon_wagon_estate car_beach waggon_station waggon_waggon\n",
            "beacon_lighthouse_beacon light_pharos\n",
            "beaker\n",
            "beer bottle\n",
            "bell pepper\n",
            "bikini_two-piece\n",
            "binoculars_field glasses_opera glasses\n",
            "birdhouse\n",
            "bison\n",
            "black widow_Latrodectus mactans\n",
            "boa constrictor_Constrictor constrictor\n",
            "bow tie_bow-tie_bowtie\n",
            "brain coral\n",
            "brass_memorial tablet_plaque\n",
            "brown bear_bruin_Ursus arctos\n",
            "bucket_pail\n",
            "bullet train_bullet\n",
            "bullfrog_Rana catesbeiana\n",
            "candle_taper_wax light\n",
            "cannon\n",
            "cardigan\n",
            "cash machine_cash dispenser_automated teller machine_automatic teller machine_automated teller_automatic teller_ATM\n",
            "cauliflower\n",
            "CD player\n",
            "chain\n",
            "chest\n",
            "Chihuahua\n",
            "Christmas stocking\n",
            "cliff dwelling\n",
            "cliff_drop_drop-off\n",
            "cockroach_roach\n",
            "comic book\n",
            "computer keyboard_keypad\n",
            "coral reef\n",
            "cougar_puma_catamount_mountain lion_painter_panther_Felis concolor\n",
            "crane\n",
            "dam_dike_dyke\n",
            "desk\n",
            "dining table_board\n",
            "drumstick\n",
            "dugong_Dugong dugon\n",
            "dumbbell\n",
            "Egyptian cat\n",
            "European fire salamander_Salamandra salamandra\n",
            "flagpole_flagstaff\n",
            "fly\n",
            "fountain\n",
            "freight car\n",
            "frying pan_frypan_skillet\n",
            "fur coat\n",
            "gasmask_respirator_gas helmet\n",
            "gazelle\n",
            "German shepherd_German shepherd dog_German police dog_alsatian\n",
            "go-kart\n",
            "golden retriever\n",
            "gondola\n",
            "goose\n",
            "grasshopper_hopper\n",
            "guacamole\n",
            "guinea pig_Cavia cobaya\n",
            "hog_pig_grunter_squealer_Sus scrofa\n",
            "ice cream_icecream\n",
            "ice lolly_lolly_lollipop_popsicle\n",
            "iPod\n",
            "jellyfish\n",
            "kimono\n",
            "king penguin_Aptenodytes patagonica\n",
            "koala_koala bear_kangaroo bear_native bear_Phascolarctos cinereus\n",
            "lakeside_lakeshore\n",
            "lampshade_lamp shade\n",
            "lawn mower_mower\n",
            "lemon\n",
            "lifeboat\n",
            "limousine_limo\n",
            "magnetic compass\n",
            "mantis_mantid\n",
            "mashed potato\n",
            "maypole\n",
            "meat loaf_meatloaf\n",
            "miniskirt_mini\n",
            "monarch_monarch butterfly_milkweed butterfly_Danaus plexippus\n",
            "mushroom\n",
            "nail\n",
            "neck brace\n",
            "obelisk\n",
            "oboe_hautboy_hautbois\n",
            "orangutan_orang_orangutang_Pongo pygmaeus\n",
            "ox\n",
            "parking meter\n",
            "picket fence_paling\n",
            "pill bottle\n",
            "plate\n",
            "plunger_plumber's helper\n",
            "pole\n",
            "police van_police wagon_paddy wagon_patrol wagon_wagon_black Maria\n",
            "pomegranate\n",
            "pop bottle_soda bottle\n",
            "potter's wheel\n",
            "pretzel\n",
            "projectile_missile\n",
            "reel\n",
            "refrigerator_icebox\n",
            "remote control_remote\n",
            "rocking chair_rocker\n",
            "rugby ball\n",
            "sandal\n",
            "scoreboard\n",
            "scorpion\n",
            "sea cucumber_holothurian\n",
            "sea slug_nudibranch\n",
            "seashore_coast_seacoast_sea-coast\n",
            "sewing machine\n",
            "slug\n",
            "snail\n",
            "snorkel\n",
            "sock\n",
            "space heater\n",
            "spider web_spider's web\n",
            "spiny lobster_langouste_rock lobster_crawfish_crayfish_sea crawfish\n",
            "sports car_sport car\n",
            "standard poodle\n",
            "steel arch bridge\n",
            "stopwatch_stop watch\n",
            "sunglasses_dark glasses_shades\n",
            "suspension bridge\n",
            "swimming trunks_bathing trunks\n",
            "tabby_tabby cat\n",
            "tarantula\n",
            "teapot\n",
            "teddy_teddy bear\n",
            "thatch_thatched roof\n",
            "tractor\n",
            "triumphal arch\n",
            "trolleybus_trolley coach_trackless trolley\n",
            "turnstile\n",
            "vestment\n",
            "viaduct\n",
            "volleyball\n",
            "walking stick_walkingstick_stick insect\n",
            "water jug\n",
            "water tower\n",
            "wok\n",
            "African elephant_Loxodonta africana\n",
            "apron\n",
            "bee\n",
            "bighorn_bighorn sheep_cimarron_Rocky Mountain bighorn_Rocky Mountain sheep_Ovis canadensis\n",
            "black stork_Ciconia nigra\n",
            "broom\n",
            "butcher shop_meat market\n",
            "centipede\n",
            "chimpanzee_chimp_Pan troglodytes\n",
            "confectionery_confectionary_candy store\n",
            "convertible\n",
            "dragonfly_darning needle_devil's darning needle_sewing needle_snake feeder_snake doctor_mosquito hawk_skeeter hawk\n",
            "espresso\n",
            "goldfish_Carassius auratus\n",
            "hourglass\n",
            "jinrikisha_ricksha_rickshaw\n",
            "Labrador retriever\n",
            "ladybug_ladybeetle_lady beetle_ladybird_ladybird beetle\n",
            "lesser panda_red panda_panda_bear cat_cat bear_Ailurus fulgens\n",
            "lion_king of beasts_Panthera leo\n",
            "military uniform\n",
            "moving van\n",
            "orange\n",
            "organ_pipe organ\n",
            "pay-phone_pay-station\n",
            "Persian cat\n",
            "pizza_pizza pie\n",
            "poncho\n",
            "potpie\n",
            "punching bag_punch bag_punching ball_punchball\n",
            "school bus\n",
            "sombrero\n",
            "sulphur butterfly_sulfur butterfly\n",
            "syringe\n",
            "tailed frog_bell toad_ribbed toad_tailed toad_Ascaphus trui\n",
            "torch\n",
            "trilobite\n",
            "umbrella\n",
            "wooden spoon\n",
            "Yorkshire terrier\n",
            "\n"
          ]
        }
      ]
    },
    {
      "cell_type": "code",
      "source": [
        "with open(\"final_names.txt\", \"w\") as f:\n",
        "    f.write(final_str)\n",
        "\n",
        "np.save(\"final_embs.npy\", final_embs)"
      ],
      "metadata": {
        "id": "EDhtTd7MkEn7"
      },
      "execution_count": null,
      "outputs": []
    }
  ]
}